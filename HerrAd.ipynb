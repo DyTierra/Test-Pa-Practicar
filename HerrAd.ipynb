{
 "cells": [
  {
   "cell_type": "markdown",
   "metadata": {},
   "source": [
    "# __Herramienta para administrar__\n",
    "El chiste de esta herramienta es facilitarme la administración de pagos periodicos. Debería ser capaz de:\n",
    "* Llevar un registro de las fechas y los pagos de los usuarios.\n",
    "* Indicar si los usuarios estan en tiempo y forma con sus pagos, de no estarlos marcar cuanto deben.\n",
    "* Guardar la información (PUES SÍ NO MAMES).\n"
   ]
  },
  {
   "cell_type": "code",
   "execution_count": 1,
   "metadata": {},
   "outputs": [],
   "source": [
    "import datetime as dt"
   ]
  },
  {
   "cell_type": "markdown",
   "metadata": {},
   "source": [
    "### __Llevar un registro de las fechas y los pagos de los usuarios__\n",
    "Para esta parte se necesitan funciones que guarden el historial de los usuarios repecto sus pagos (la cantidad y la fecha)."
   ]
  },
  {
   "cell_type": "markdown",
   "metadata": {},
   "source": [
    "### __Indicar si los usuarios estan en tiempó y forma con sus pagos__\n",
    "Esta sección debe trabajar bien las fechas para indicar de forma precisa si el usuario cumple o no."
   ]
  },
  {
   "cell_type": "markdown",
   "metadata": {},
   "source": [
    "__Función__: que indica cuantos períodos han transcurrido desde la fecha inicial hasta la fecha actual."
   ]
  }
 ],
 "metadata": {
  "kernelspec": {
   "display_name": "Python 3",
   "language": "python",
   "name": "python3"
  },
  "language_info": {
   "codemirror_mode": {
    "name": "ipython",
    "version": 3
   },
   "file_extension": ".py",
   "mimetype": "text/x-python",
   "name": "python",
   "nbconvert_exporter": "python",
   "pygments_lexer": "ipython3",
   "version": "3.7.3"
  }
 },
 "nbformat": 4,
 "nbformat_minor": 4
}
