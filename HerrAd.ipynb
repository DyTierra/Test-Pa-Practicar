{
 "cells": [
  {
   "cell_type": "markdown",
   "metadata": {},
   "source": [
    "# __Herramienta para administrar__\n",
    "El chiste de esta herramienta es facilitarme la administración de pagos periodicos. Debería ser capaz de:\n",
    "* Llevar un registro de las fechas y los pagos de los usuarios.\n",
    "* Indicar si los usuarios estan en tiempo y forma con sus pagos, de no estarlos marcar cuanto deben.\n",
    "* Guardar la información (PUES SÍ NO MAMES).\n"
   ]
  },
  {
   "cell_type": "code",
   "execution_count": 1,
   "metadata": {},
   "outputs": [],
   "source": [
    "import datetime as dt"
   ]
  },
  {
   "cell_type": "markdown",
   "metadata": {},
   "source": [
    "### __Llevar un registro de las fechas y los pagos de los usuarios__\n",
    "Para esta parte se necesitan funciones que guarden el historial de los usuarios repecto sus pagos (la cantidad y la fecha)."
   ]
  },
  {
   "cell_type": "markdown",
   "metadata": {},
   "source": [
    "### __Indicar si los usuarios estan en tiempo y forma con sus pagos__\n",
    "Esta sección debe trabajar bien las fechas para indicar de forma precisa si el usuario cumple o no."
   ]
  },
  {
   "cell_type": "markdown",
   "metadata": {},
   "source": [
    "__Función (YearsCount)__: Debe devolver los años de diferencia entre la fecha inicial (el primer pago) y el día actual."
   ]
  },
  {
   "cell_type": "code",
   "execution_count": 5,
   "metadata": {},
   "outputs": [],
   "source": [
    "#Prototipo para probar distintas fechas:\n",
    "def YearsCount(Day):\n",
    "    return dt.datetime.today().year - Day.year\n",
    "    #Diff = dt.datetime.today().year - Day.year\n",
    "    #if Diff == 0:\n",
    "    #    return 0\n",
    "    #else:\n",
    "    #    return Diff * 12\n",
    "\n",
    "\n",
    "def YearsCountTEST(FirstDay, CurrentDay):\n",
    "    return CurrentDay.year - FirstDay.year\n",
    "    #Diff = CurrentDay.year - FirstDay.year\n",
    "    #if Diff == 0:\n",
    "    #    return 0\n",
    "    #else:\n",
    "    #    return Diff * 12"
   ]
  },
  {
   "cell_type": "markdown",
   "metadata": {},
   "source": [
    "* __Prueba__:"
   ]
  },
  {
   "cell_type": "code",
   "execution_count": 6,
   "metadata": {},
   "outputs": [
    {
     "name": "stdout",
     "output_type": "stream",
     "text": [
      "0\n",
      "1\n",
      "2\n"
     ]
    }
   ],
   "source": [
    "#En teoría la respuesta debería ser 0\n",
    "print(YearsCount(dt.datetime(2019, 9, 7)))\n",
    "\n",
    "#Este debería marca 1 y 2 respectivamente\n",
    "print(YearsCountTEST(dt.datetime(2019,9,7), dt.datetime(2020,2,25)))\n",
    "print(YearsCountTEST(dt.datetime(2019,9,7), dt.datetime(2021,2,25)))"
   ]
  },
  {
   "cell_type": "markdown",
   "metadata": {},
   "source": [
    "__Función__: Tiene el propósito de indicar cuantos períodos han transcurrido desde la fecha inicial hasta la fecha actual."
   ]
  },
  {
   "cell_type": "code",
   "execution_count": null,
   "metadata": {},
   "outputs": [],
   "source": [
    "def MonthsCount(Day, ):\n",
    "    Today = dt.datetime.today()\n",
    "    CompareDay = dt.datetime(Today)"
   ]
  }
 ],
 "metadata": {
  "kernelspec": {
   "display_name": "Python 3",
   "language": "python",
   "name": "python3"
  },
  "language_info": {
   "codemirror_mode": {
    "name": "ipython",
    "version": 3
   },
   "file_extension": ".py",
   "mimetype": "text/x-python",
   "name": "python",
   "nbconvert_exporter": "python",
   "pygments_lexer": "ipython3",
   "version": "3.7.3"
  }
 },
 "nbformat": 4,
 "nbformat_minor": 4
}
